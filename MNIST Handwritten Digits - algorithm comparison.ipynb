{
 "cells": [
  {
   "cell_type": "code",
   "execution_count": 1,
   "metadata": {},
   "outputs": [],
   "source": [
    "from tensorflow.keras.datasets import mnist\n",
    "import tensorflow as tf\n",
    "import matplotlib.pyplot as plt\n",
    "import numpy as np\n",
    "from tensorflow.keras.models import Sequential\n",
    "from tensorflow.keras.layers import Flatten, Dense, Conv2D, MaxPooling2D"
   ]
  },
  {
   "cell_type": "code",
   "execution_count": 2,
   "metadata": {},
   "outputs": [],
   "source": [
    "def plot_digit(image):\n",
    "    \"\"\"\n",
    "    This function receives an image and plots the digit. \n",
    "    \"\"\"\n",
    "    plt.imshow(image, cmap='gray')\n",
    "    plt.show()"
   ]
  },
  {
   "cell_type": "code",
   "execution_count": 3,
   "metadata": {},
   "outputs": [],
   "source": [
    "def cnn(train_x, train_y, test1_x, test1_y):#, test2_x, test2_y):\n",
    "    \"\"\"\n",
    "    Train and evaluate a feedforward network with two hidden layers.\n",
    "    \"\"\"\n",
    "    # Add a single \"channels\" dimension at the end\n",
    "    trn_x = train_x.reshape([-1, 28, 28, 1])\n",
    "    tst1_x = test1_x.reshape([-1, 28, 28, 1])\n",
    "    #tst2_x = test2_x.reshape([-1, 28, 28, 1])\n",
    "\n",
    "    # First layer will need argument `input_shape=(30,30,1)`\n",
    "    model = Sequential([\n",
    "        # TODO: add your implementation here\n",
    "        Conv2D(32,(5,5)),\n",
    "        MaxPooling2D((2,2),(2,2)),\n",
    "        Conv2D(64,(5,5)),\n",
    "        MaxPooling2D((2,2),(1,1)),\n",
    "        Flatten(input_shape=(30,30,1)),\n",
    "        Dense(512,activation='relu'),\n",
    "        Dense(10,activation='softmax')\n",
    "    ])\n",
    "\n",
    "    model.compile(optimizer='adam',\n",
    "                  loss='categorical_crossentropy',\n",
    "                  metrics=['accuracy'])\n",
    "    model.fit(trn_x, train_y, epochs=10)\n",
    "\n",
    "    print(\"Evaluating CNN on test set 1\")\n",
    "    model.evaluate(tst1_x, test1_y)\n",
    "#     print(\"Evaluating CNN on test set 2\")\n",
    "#     return model.evaluate(tst2_x, test2_y)"
   ]
  },
  {
   "cell_type": "code",
   "execution_count": 4,
   "metadata": {},
   "outputs": [],
   "source": [
    "def decenter(X,pad=2):\n",
    "    #shifts values in X 2 pixels to the bottom right corner\n",
    "    out = np.zeros([X.shape[0], X.shape[1]+abs(pad), X.shape[2]+abs(pad)])\n",
    "    if pad > 0:\n",
    "        out[:,pad:X.shape[1]+pad, pad:X.shape[2]+pad] = X\n",
    "    else:\n",
    "        out[:,0:X.shape[1], 0:X.shape[2]] = X\n",
    "        \n",
    "    return out"
   ]
  },
  {
   "cell_type": "code",
   "execution_count": 5,
   "metadata": {},
   "outputs": [],
   "source": [
    "def h_theta(X, W, B):\n",
    "    \"\"\"\n",
    "    For a given matrix W and vector B, this function predicts the value\n",
    "    of each digit for each image of X. Here we assume that each column of X\n",
    "    is a flattened image. \n",
    "    \"\"\"\n",
    "    return W.dot(X) + B "
   ]
  },
  {
   "cell_type": "code",
   "execution_count": 6,
   "metadata": {},
   "outputs": [],
   "source": [
    "def l5GradDesc(images, labels, images_test, test_labels):\n",
    "    images = images.reshape(images.shape[0],28*28)\n",
    "    images = images.T\n",
    "    \n",
    "    images_test = images_test.reshape(images_test.shape[0], 28*28)\n",
    "    images_test = images_test.T\n",
    "    \n",
    "    # Learning rate alpha, for controlling the step of gradient descent\n",
    "    alpha = 0.01\n",
    "\n",
    "    # Number of instances in the training set\n",
    "    m = images.shape[1]\n",
    "\n",
    "    # Matrix W initialized with zeros\n",
    "    W = np.zeros((10, 28*28))\n",
    "\n",
    "    # Matrix B also initialized with zeros\n",
    "    B = np.zeros((10,1))\n",
    "\n",
    "    # Creating Y matrix where each column is an one-hot vector\n",
    "    Y = np.zeros((10, m))\n",
    "    for index, value in enumerate(labels):\n",
    "        Y[value][index] = 1\n",
    "\n",
    "    # Performs 1000 iterations of gradient descent\n",
    "    # print(\"start W shape is \", W.shape)\n",
    "    # print(\"start B shape is \", B.shape)\n",
    "    for i in range(1000):\n",
    "        # Write here your implementation of gradient descent\n",
    "        ###tinashe start \n",
    "        temp = ((W.dot(images) + B - Y)).dot(np.transpose(images))\n",
    "        w_pderivativ = (1/m) * temp\n",
    "        b_pderivativ = (1/m) * (W.dot(images) + B - Y)\n",
    "        b_pderivative = []\n",
    "        for row in b_pderivativ:\n",
    "            n_row= sum(row)\n",
    "            b_pderivative.append(n_row)\n",
    "        b_pderivative = np.array(b_pderivative).reshape(10,1)\n",
    "\n",
    "        W = W - (alpha * w_pderivativ)\n",
    "        B = B - (alpha * b_pderivative)\n",
    "        ###tinashe end\n",
    "        \n",
    "    #make predictions for first test set\n",
    "    Y_hat = W.dot(images_test) + B\n",
    "\n",
    "    #one hot encode the results\n",
    "    results = []\n",
    "    for row in np.transpose(Y_hat):\n",
    "        results.append(np.argmax(row))\n",
    "\n",
    "    #get accuracy of the data based on the training results\n",
    "    accurate = 0\n",
    "    for i in range(len(results)):\n",
    "        if results[i] == test_labels[i]:\n",
    "            accurate += 1\n",
    "    print(\"percentage accuracy is: \", accurate/len(results))"
   ]
  },
  {
   "cell_type": "code",
   "execution_count": 7,
   "metadata": {},
   "outputs": [],
   "source": [
    "def main():\n",
    "    (x_train, y_train), (x_test, y_test) = mnist.load_data()\n",
    "    \n",
    "    #change x_train and x_test data to float from uint8\n",
    "    x_train = x_train/255.0\n",
    "    x_test = x_test/255.0\n",
    "    \n",
    "    #print(x_train.shape)\n",
    "    #use one hot encoding to represent the answers ie labels for the data\n",
    "    #both for training and testing\n",
    "    with tf.compat.v1.Session():\n",
    "        y_tran = tf.one_hot(y_train, 10).eval()\n",
    "        y_tst = tf.one_hot(y_test, 10).eval()\n",
    "    \n",
    "    #shift the test data by 2 pixels to the bottom right\n",
    "    x_test2 = decenter(x_test, 2)\n",
    "    \n",
    "    #call classification algorithms    \n",
    "    #cnn(x_train, y_tran, x_test, y_tst) #################\n",
    "    l5GradDesc(x_train, y_train, x_test, y_test)\n",
    "    "
   ]
  },
  {
   "cell_type": "code",
   "execution_count": 8,
   "metadata": {},
   "outputs": [
    {
     "name": "stdout",
     "output_type": "stream",
     "text": [
      "(60000, 28, 28)\n"
     ]
    },
    {
     "ename": "KeyboardInterrupt",
     "evalue": "",
     "output_type": "error",
     "traceback": [
      "\u001b[0;31m---------------------------------------------------------------------------\u001b[0m",
      "\u001b[0;31mKeyboardInterrupt\u001b[0m                         Traceback (most recent call last)",
      "\u001b[0;32m<ipython-input-8-263240bbee7e>\u001b[0m in \u001b[0;36m<module>\u001b[0;34m\u001b[0m\n\u001b[0;32m----> 1\u001b[0;31m \u001b[0mmain\u001b[0m\u001b[0;34m(\u001b[0m\u001b[0;34m)\u001b[0m\u001b[0;34m\u001b[0m\u001b[0;34m\u001b[0m\u001b[0m\n\u001b[0m",
      "\u001b[0;32m<ipython-input-7-536bceb1870e>\u001b[0m in \u001b[0;36mmain\u001b[0;34m()\u001b[0m\n\u001b[1;32m     18\u001b[0m     \u001b[0;31m#call classification algorithms\u001b[0m\u001b[0;34m\u001b[0m\u001b[0;34m\u001b[0m\u001b[0;34m\u001b[0m\u001b[0m\n\u001b[1;32m     19\u001b[0m     \u001b[0;31m#cnn(x_train, y_tran, x_test, y_tst) #################\u001b[0m\u001b[0;34m\u001b[0m\u001b[0;34m\u001b[0m\u001b[0;34m\u001b[0m\u001b[0m\n\u001b[0;32m---> 20\u001b[0;31m     \u001b[0ml5GradDesc\u001b[0m\u001b[0;34m(\u001b[0m\u001b[0mx_train\u001b[0m\u001b[0;34m,\u001b[0m \u001b[0my_train\u001b[0m\u001b[0;34m,\u001b[0m \u001b[0mx_test\u001b[0m\u001b[0;34m,\u001b[0m \u001b[0my_test\u001b[0m\u001b[0;34m)\u001b[0m\u001b[0;34m\u001b[0m\u001b[0;34m\u001b[0m\u001b[0m\n\u001b[0m\u001b[1;32m     21\u001b[0m \u001b[0;34m\u001b[0m\u001b[0m\n",
      "\u001b[0;32m<ipython-input-6-5e6319814950>\u001b[0m in \u001b[0;36ml5GradDesc\u001b[0;34m(images, labels, images_test, test_labels)\u001b[0m\n\u001b[1;32m     29\u001b[0m         \u001b[0;31m# Write here your implementation of gradient descent\u001b[0m\u001b[0;34m\u001b[0m\u001b[0;34m\u001b[0m\u001b[0;34m\u001b[0m\u001b[0m\n\u001b[1;32m     30\u001b[0m         \u001b[0;31m###tinashe start\u001b[0m\u001b[0;34m\u001b[0m\u001b[0;34m\u001b[0m\u001b[0;34m\u001b[0m\u001b[0m\n\u001b[0;32m---> 31\u001b[0;31m         \u001b[0mtemp\u001b[0m \u001b[0;34m=\u001b[0m \u001b[0;34m(\u001b[0m\u001b[0;34m(\u001b[0m\u001b[0mW\u001b[0m\u001b[0;34m.\u001b[0m\u001b[0mdot\u001b[0m\u001b[0;34m(\u001b[0m\u001b[0mimages\u001b[0m\u001b[0;34m)\u001b[0m \u001b[0;34m+\u001b[0m \u001b[0mB\u001b[0m \u001b[0;34m-\u001b[0m \u001b[0mY\u001b[0m\u001b[0;34m)\u001b[0m\u001b[0;34m)\u001b[0m\u001b[0;34m.\u001b[0m\u001b[0mdot\u001b[0m\u001b[0;34m(\u001b[0m\u001b[0mnp\u001b[0m\u001b[0;34m.\u001b[0m\u001b[0mtranspose\u001b[0m\u001b[0;34m(\u001b[0m\u001b[0mimages\u001b[0m\u001b[0;34m)\u001b[0m\u001b[0;34m)\u001b[0m\u001b[0;34m\u001b[0m\u001b[0;34m\u001b[0m\u001b[0m\n\u001b[0m\u001b[1;32m     32\u001b[0m         \u001b[0mw_pderivativ\u001b[0m \u001b[0;34m=\u001b[0m \u001b[0;34m(\u001b[0m\u001b[0;36m1\u001b[0m\u001b[0;34m/\u001b[0m\u001b[0mm\u001b[0m\u001b[0;34m)\u001b[0m \u001b[0;34m*\u001b[0m \u001b[0mtemp\u001b[0m\u001b[0;34m\u001b[0m\u001b[0;34m\u001b[0m\u001b[0m\n\u001b[1;32m     33\u001b[0m         \u001b[0mb_pderivativ\u001b[0m \u001b[0;34m=\u001b[0m \u001b[0;34m(\u001b[0m\u001b[0;36m1\u001b[0m\u001b[0;34m/\u001b[0m\u001b[0mm\u001b[0m\u001b[0;34m)\u001b[0m \u001b[0;34m*\u001b[0m \u001b[0;34m(\u001b[0m\u001b[0mW\u001b[0m\u001b[0;34m.\u001b[0m\u001b[0mdot\u001b[0m\u001b[0;34m(\u001b[0m\u001b[0mimages\u001b[0m\u001b[0;34m)\u001b[0m \u001b[0;34m+\u001b[0m \u001b[0mB\u001b[0m \u001b[0;34m-\u001b[0m \u001b[0mY\u001b[0m\u001b[0;34m)\u001b[0m\u001b[0;34m\u001b[0m\u001b[0;34m\u001b[0m\u001b[0m\n",
      "\u001b[0;31mKeyboardInterrupt\u001b[0m: "
     ]
    }
   ],
   "source": [
    "main()"
   ]
  },
  {
   "cell_type": "code",
   "execution_count": null,
   "metadata": {},
   "outputs": [],
   "source": []
  }
 ],
 "metadata": {
  "kernelspec": {
   "display_name": "Python 3",
   "language": "python",
   "name": "python3"
  },
  "language_info": {
   "codemirror_mode": {
    "name": "ipython",
    "version": 3
   },
   "file_extension": ".py",
   "mimetype": "text/x-python",
   "name": "python",
   "nbconvert_exporter": "python",
   "pygments_lexer": "ipython3",
   "version": "3.8.5"
  }
 },
 "nbformat": 4,
 "nbformat_minor": 4
}
